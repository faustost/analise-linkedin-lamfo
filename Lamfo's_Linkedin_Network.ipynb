{
  "nbformat": 4,
  "nbformat_minor": 0,
  "metadata": {
    "colab": {
      "name": "Lamfo's Linkedin Network.ipynb",
      "provenance": [],
      "collapsed_sections": []
    },
    "kernelspec": {
      "name": "python3",
      "display_name": "Python 3"
    },
    "language_info": {
      "name": "python"
    }
  },
  "cells": [
    {
      "cell_type": "markdown",
      "source": [
        "## Install dependencies, import libraries and data"
      ],
      "metadata": {
        "id": "8Jg5gYlPZw-n"
      }
    },
    {
      "cell_type": "code",
      "metadata": {
        "id": "gN3Fjp6KObV5"
      },
      "source": [
        "!pip install pyvis --quiet\n",
        "!pip install --upgrade xlrd"
      ],
      "execution_count": null,
      "outputs": []
    },
    {
      "cell_type": "code",
      "metadata": {
        "id": "lH5IecBqDOph"
      },
      "source": [
        "import pandas as pd\n",
        "from IPython.core.display import display, HTML\n",
        "from pyvis import network as net\n",
        "import networkx as nx"
      ],
      "execution_count": null,
      "outputs": []
    },
    {
      "cell_type": "code",
      "metadata": {
        "id": "33lkTwstLzko"
      },
      "source": [
        "df_local = pd.read_excel(\"/content/sample_data/lamfo_followers.xls\", sheet_name=\"Localidade\")"
      ],
      "execution_count": null,
      "outputs": []
    },
    {
      "cell_type": "code",
      "metadata": {
        "id": "SpND_DCtMoA1"
      },
      "source": [
        "df_local.info()"
      ],
      "execution_count": null,
      "outputs": []
    },
    {
      "cell_type": "code",
      "source": [
        "df_setor = pd.read_excel(\"/content/sample_data/lamfo_followers.xls\", sheet_name=\"Setor\")"
      ],
      "metadata": {
        "id": "NGYAKfT5X3iR"
      },
      "execution_count": null,
      "outputs": []
    },
    {
      "cell_type": "markdown",
      "metadata": {
        "id": "voEgd2d3Trfv"
      },
      "source": [
        "## Data Cleaning"
      ]
    },
    {
      "cell_type": "code",
      "source": [
        "df_local"
      ],
      "metadata": {
        "colab": {
          "base_uri": "https://localhost:8080/",
          "height": 423
        },
        "id": "6grrddCDSM34",
        "outputId": "2ff2460a-368f-417f-e114-7fd5b1ce9f91"
      },
      "execution_count": null,
      "outputs": [
        {
          "output_type": "execute_result",
          "data": {
            "text/plain": [
              "                                        Localidade  Total de seguidores\n",
              "0                        Brasília e Região, Brasil                  219\n",
              "1                       São Paulo e Região, Brasil                   70\n",
              "2                  Belo Horizonte e Região, Brasil                   11\n",
              "3                  Rio de Janeiro e Região, Brasil                   10\n",
              "4                        Araruama e Região, Brasil                   10\n",
              "..                                             ...                  ...\n",
              "61               Cidade do México e Região, México                    1\n",
              "62                   Quirinópolis e Região, Brasil                    1\n",
              "63                         Formiga e regiã, Brasil                    1\n",
              "64                       Floriano e Região, Brasil                    1\n",
              "65  Baía de São Francisco e Região, Estados Unidos                    1\n",
              "\n",
              "[66 rows x 2 columns]"
            ],
            "text/html": [
              "\n",
              "  <div id=\"df-265ececc-7174-43d8-908e-1de46b06b189\">\n",
              "    <div class=\"colab-df-container\">\n",
              "      <div>\n",
              "<style scoped>\n",
              "    .dataframe tbody tr th:only-of-type {\n",
              "        vertical-align: middle;\n",
              "    }\n",
              "\n",
              "    .dataframe tbody tr th {\n",
              "        vertical-align: top;\n",
              "    }\n",
              "\n",
              "    .dataframe thead th {\n",
              "        text-align: right;\n",
              "    }\n",
              "</style>\n",
              "<table border=\"1\" class=\"dataframe\">\n",
              "  <thead>\n",
              "    <tr style=\"text-align: right;\">\n",
              "      <th></th>\n",
              "      <th>Localidade</th>\n",
              "      <th>Total de seguidores</th>\n",
              "    </tr>\n",
              "  </thead>\n",
              "  <tbody>\n",
              "    <tr>\n",
              "      <th>0</th>\n",
              "      <td>Brasília e Região, Brasil</td>\n",
              "      <td>219</td>\n",
              "    </tr>\n",
              "    <tr>\n",
              "      <th>1</th>\n",
              "      <td>São Paulo e Região, Brasil</td>\n",
              "      <td>70</td>\n",
              "    </tr>\n",
              "    <tr>\n",
              "      <th>2</th>\n",
              "      <td>Belo Horizonte e Região, Brasil</td>\n",
              "      <td>11</td>\n",
              "    </tr>\n",
              "    <tr>\n",
              "      <th>3</th>\n",
              "      <td>Rio de Janeiro e Região, Brasil</td>\n",
              "      <td>10</td>\n",
              "    </tr>\n",
              "    <tr>\n",
              "      <th>4</th>\n",
              "      <td>Araruama e Região, Brasil</td>\n",
              "      <td>10</td>\n",
              "    </tr>\n",
              "    <tr>\n",
              "      <th>...</th>\n",
              "      <td>...</td>\n",
              "      <td>...</td>\n",
              "    </tr>\n",
              "    <tr>\n",
              "      <th>61</th>\n",
              "      <td>Cidade do México e Região, México</td>\n",
              "      <td>1</td>\n",
              "    </tr>\n",
              "    <tr>\n",
              "      <th>62</th>\n",
              "      <td>Quirinópolis e Região, Brasil</td>\n",
              "      <td>1</td>\n",
              "    </tr>\n",
              "    <tr>\n",
              "      <th>63</th>\n",
              "      <td>Formiga e regiã, Brasil</td>\n",
              "      <td>1</td>\n",
              "    </tr>\n",
              "    <tr>\n",
              "      <th>64</th>\n",
              "      <td>Floriano e Região, Brasil</td>\n",
              "      <td>1</td>\n",
              "    </tr>\n",
              "    <tr>\n",
              "      <th>65</th>\n",
              "      <td>Baía de São Francisco e Região, Estados Unidos</td>\n",
              "      <td>1</td>\n",
              "    </tr>\n",
              "  </tbody>\n",
              "</table>\n",
              "<p>66 rows × 2 columns</p>\n",
              "</div>\n",
              "      <button class=\"colab-df-convert\" onclick=\"convertToInteractive('df-265ececc-7174-43d8-908e-1de46b06b189')\"\n",
              "              title=\"Convert this dataframe to an interactive table.\"\n",
              "              style=\"display:none;\">\n",
              "        \n",
              "  <svg xmlns=\"http://www.w3.org/2000/svg\" height=\"24px\"viewBox=\"0 0 24 24\"\n",
              "       width=\"24px\">\n",
              "    <path d=\"M0 0h24v24H0V0z\" fill=\"none\"/>\n",
              "    <path d=\"M18.56 5.44l.94 2.06.94-2.06 2.06-.94-2.06-.94-.94-2.06-.94 2.06-2.06.94zm-11 1L8.5 8.5l.94-2.06 2.06-.94-2.06-.94L8.5 2.5l-.94 2.06-2.06.94zm10 10l.94 2.06.94-2.06 2.06-.94-2.06-.94-.94-2.06-.94 2.06-2.06.94z\"/><path d=\"M17.41 7.96l-1.37-1.37c-.4-.4-.92-.59-1.43-.59-.52 0-1.04.2-1.43.59L10.3 9.45l-7.72 7.72c-.78.78-.78 2.05 0 2.83L4 21.41c.39.39.9.59 1.41.59.51 0 1.02-.2 1.41-.59l7.78-7.78 2.81-2.81c.8-.78.8-2.07 0-2.86zM5.41 20L4 18.59l7.72-7.72 1.47 1.35L5.41 20z\"/>\n",
              "  </svg>\n",
              "      </button>\n",
              "      \n",
              "  <style>\n",
              "    .colab-df-container {\n",
              "      display:flex;\n",
              "      flex-wrap:wrap;\n",
              "      gap: 12px;\n",
              "    }\n",
              "\n",
              "    .colab-df-convert {\n",
              "      background-color: #E8F0FE;\n",
              "      border: none;\n",
              "      border-radius: 50%;\n",
              "      cursor: pointer;\n",
              "      display: none;\n",
              "      fill: #1967D2;\n",
              "      height: 32px;\n",
              "      padding: 0 0 0 0;\n",
              "      width: 32px;\n",
              "    }\n",
              "\n",
              "    .colab-df-convert:hover {\n",
              "      background-color: #E2EBFA;\n",
              "      box-shadow: 0px 1px 2px rgba(60, 64, 67, 0.3), 0px 1px 3px 1px rgba(60, 64, 67, 0.15);\n",
              "      fill: #174EA6;\n",
              "    }\n",
              "\n",
              "    [theme=dark] .colab-df-convert {\n",
              "      background-color: #3B4455;\n",
              "      fill: #D2E3FC;\n",
              "    }\n",
              "\n",
              "    [theme=dark] .colab-df-convert:hover {\n",
              "      background-color: #434B5C;\n",
              "      box-shadow: 0px 1px 3px 1px rgba(0, 0, 0, 0.15);\n",
              "      filter: drop-shadow(0px 1px 2px rgba(0, 0, 0, 0.3));\n",
              "      fill: #FFFFFF;\n",
              "    }\n",
              "  </style>\n",
              "\n",
              "      <script>\n",
              "        const buttonEl =\n",
              "          document.querySelector('#df-265ececc-7174-43d8-908e-1de46b06b189 button.colab-df-convert');\n",
              "        buttonEl.style.display =\n",
              "          google.colab.kernel.accessAllowed ? 'block' : 'none';\n",
              "\n",
              "        async function convertToInteractive(key) {\n",
              "          const element = document.querySelector('#df-265ececc-7174-43d8-908e-1de46b06b189');\n",
              "          const dataTable =\n",
              "            await google.colab.kernel.invokeFunction('convertToInteractive',\n",
              "                                                     [key], {});\n",
              "          if (!dataTable) return;\n",
              "\n",
              "          const docLinkHtml = 'Like what you see? Visit the ' +\n",
              "            '<a target=\"_blank\" href=https://colab.research.google.com/notebooks/data_table.ipynb>data table notebook</a>'\n",
              "            + ' to learn more about interactive tables.';\n",
              "          element.innerHTML = '';\n",
              "          dataTable['output_type'] = 'display_data';\n",
              "          await google.colab.output.renderOutput(dataTable, element);\n",
              "          const docLink = document.createElement('div');\n",
              "          docLink.innerHTML = docLinkHtml;\n",
              "          element.appendChild(docLink);\n",
              "        }\n",
              "      </script>\n",
              "    </div>\n",
              "  </div>\n",
              "  "
            ]
          },
          "metadata": {},
          "execution_count": 7
        }
      ]
    },
    {
      "cell_type": "code",
      "source": [
        "# start stop and step variables\n",
        "start, stop, step = 0, -17, 1\n",
        "  \n",
        "# # converting to string data type\n",
        "# df_local[\"Localidade\"]= df_local[\"Localidade\"].astype(str)\n",
        "  \n",
        "# slicing till 2nd last element\n",
        "df_local[\"Localidade\"]= df_local[\"Localidade\"].str.slice(start, stop, step)"
      ],
      "metadata": {
        "id": "iP-0DR_8WEs3"
      },
      "execution_count": null,
      "outputs": []
    },
    {
      "cell_type": "code",
      "source": [
        "df_local"
      ],
      "metadata": {
        "colab": {
          "base_uri": "https://localhost:8080/",
          "height": 423
        },
        "id": "ckr5ESFDWenB",
        "outputId": "9ce6ec43-2fe5-46a0-c11d-1c93dfa31f37"
      },
      "execution_count": null,
      "outputs": [
        {
          "output_type": "execute_result",
          "data": {
            "text/plain": [
              "                       Localidade  Total de seguidores\n",
              "0                        Brasília                  219\n",
              "1                       São Paulo                   70\n",
              "2                  Belo Horizonte                   11\n",
              "3                  Rio de Janeiro                   10\n",
              "4                        Araruama                   10\n",
              "..                            ...                  ...\n",
              "61               Cidade do México                    1\n",
              "62                   Quirinópolis                    1\n",
              "63                         Formig                    1\n",
              "64                       Floriano                    1\n",
              "65  Baía de São Francisco e Regiã                    1\n",
              "\n",
              "[66 rows x 2 columns]"
            ],
            "text/html": [
              "\n",
              "  <div id=\"df-c66f2ec8-2cc9-47d7-8176-548b8243f156\">\n",
              "    <div class=\"colab-df-container\">\n",
              "      <div>\n",
              "<style scoped>\n",
              "    .dataframe tbody tr th:only-of-type {\n",
              "        vertical-align: middle;\n",
              "    }\n",
              "\n",
              "    .dataframe tbody tr th {\n",
              "        vertical-align: top;\n",
              "    }\n",
              "\n",
              "    .dataframe thead th {\n",
              "        text-align: right;\n",
              "    }\n",
              "</style>\n",
              "<table border=\"1\" class=\"dataframe\">\n",
              "  <thead>\n",
              "    <tr style=\"text-align: right;\">\n",
              "      <th></th>\n",
              "      <th>Localidade</th>\n",
              "      <th>Total de seguidores</th>\n",
              "    </tr>\n",
              "  </thead>\n",
              "  <tbody>\n",
              "    <tr>\n",
              "      <th>0</th>\n",
              "      <td>Brasília</td>\n",
              "      <td>219</td>\n",
              "    </tr>\n",
              "    <tr>\n",
              "      <th>1</th>\n",
              "      <td>São Paulo</td>\n",
              "      <td>70</td>\n",
              "    </tr>\n",
              "    <tr>\n",
              "      <th>2</th>\n",
              "      <td>Belo Horizonte</td>\n",
              "      <td>11</td>\n",
              "    </tr>\n",
              "    <tr>\n",
              "      <th>3</th>\n",
              "      <td>Rio de Janeiro</td>\n",
              "      <td>10</td>\n",
              "    </tr>\n",
              "    <tr>\n",
              "      <th>4</th>\n",
              "      <td>Araruama</td>\n",
              "      <td>10</td>\n",
              "    </tr>\n",
              "    <tr>\n",
              "      <th>...</th>\n",
              "      <td>...</td>\n",
              "      <td>...</td>\n",
              "    </tr>\n",
              "    <tr>\n",
              "      <th>61</th>\n",
              "      <td>Cidade do México</td>\n",
              "      <td>1</td>\n",
              "    </tr>\n",
              "    <tr>\n",
              "      <th>62</th>\n",
              "      <td>Quirinópolis</td>\n",
              "      <td>1</td>\n",
              "    </tr>\n",
              "    <tr>\n",
              "      <th>63</th>\n",
              "      <td>Formig</td>\n",
              "      <td>1</td>\n",
              "    </tr>\n",
              "    <tr>\n",
              "      <th>64</th>\n",
              "      <td>Floriano</td>\n",
              "      <td>1</td>\n",
              "    </tr>\n",
              "    <tr>\n",
              "      <th>65</th>\n",
              "      <td>Baía de São Francisco e Regiã</td>\n",
              "      <td>1</td>\n",
              "    </tr>\n",
              "  </tbody>\n",
              "</table>\n",
              "<p>66 rows × 2 columns</p>\n",
              "</div>\n",
              "      <button class=\"colab-df-convert\" onclick=\"convertToInteractive('df-c66f2ec8-2cc9-47d7-8176-548b8243f156')\"\n",
              "              title=\"Convert this dataframe to an interactive table.\"\n",
              "              style=\"display:none;\">\n",
              "        \n",
              "  <svg xmlns=\"http://www.w3.org/2000/svg\" height=\"24px\"viewBox=\"0 0 24 24\"\n",
              "       width=\"24px\">\n",
              "    <path d=\"M0 0h24v24H0V0z\" fill=\"none\"/>\n",
              "    <path d=\"M18.56 5.44l.94 2.06.94-2.06 2.06-.94-2.06-.94-.94-2.06-.94 2.06-2.06.94zm-11 1L8.5 8.5l.94-2.06 2.06-.94-2.06-.94L8.5 2.5l-.94 2.06-2.06.94zm10 10l.94 2.06.94-2.06 2.06-.94-2.06-.94-.94-2.06-.94 2.06-2.06.94z\"/><path d=\"M17.41 7.96l-1.37-1.37c-.4-.4-.92-.59-1.43-.59-.52 0-1.04.2-1.43.59L10.3 9.45l-7.72 7.72c-.78.78-.78 2.05 0 2.83L4 21.41c.39.39.9.59 1.41.59.51 0 1.02-.2 1.41-.59l7.78-7.78 2.81-2.81c.8-.78.8-2.07 0-2.86zM5.41 20L4 18.59l7.72-7.72 1.47 1.35L5.41 20z\"/>\n",
              "  </svg>\n",
              "      </button>\n",
              "      \n",
              "  <style>\n",
              "    .colab-df-container {\n",
              "      display:flex;\n",
              "      flex-wrap:wrap;\n",
              "      gap: 12px;\n",
              "    }\n",
              "\n",
              "    .colab-df-convert {\n",
              "      background-color: #E8F0FE;\n",
              "      border: none;\n",
              "      border-radius: 50%;\n",
              "      cursor: pointer;\n",
              "      display: none;\n",
              "      fill: #1967D2;\n",
              "      height: 32px;\n",
              "      padding: 0 0 0 0;\n",
              "      width: 32px;\n",
              "    }\n",
              "\n",
              "    .colab-df-convert:hover {\n",
              "      background-color: #E2EBFA;\n",
              "      box-shadow: 0px 1px 2px rgba(60, 64, 67, 0.3), 0px 1px 3px 1px rgba(60, 64, 67, 0.15);\n",
              "      fill: #174EA6;\n",
              "    }\n",
              "\n",
              "    [theme=dark] .colab-df-convert {\n",
              "      background-color: #3B4455;\n",
              "      fill: #D2E3FC;\n",
              "    }\n",
              "\n",
              "    [theme=dark] .colab-df-convert:hover {\n",
              "      background-color: #434B5C;\n",
              "      box-shadow: 0px 1px 3px 1px rgba(0, 0, 0, 0.15);\n",
              "      filter: drop-shadow(0px 1px 2px rgba(0, 0, 0, 0.3));\n",
              "      fill: #FFFFFF;\n",
              "    }\n",
              "  </style>\n",
              "\n",
              "      <script>\n",
              "        const buttonEl =\n",
              "          document.querySelector('#df-c66f2ec8-2cc9-47d7-8176-548b8243f156 button.colab-df-convert');\n",
              "        buttonEl.style.display =\n",
              "          google.colab.kernel.accessAllowed ? 'block' : 'none';\n",
              "\n",
              "        async function convertToInteractive(key) {\n",
              "          const element = document.querySelector('#df-c66f2ec8-2cc9-47d7-8176-548b8243f156');\n",
              "          const dataTable =\n",
              "            await google.colab.kernel.invokeFunction('convertToInteractive',\n",
              "                                                     [key], {});\n",
              "          if (!dataTable) return;\n",
              "\n",
              "          const docLinkHtml = 'Like what you see? Visit the ' +\n",
              "            '<a target=\"_blank\" href=https://colab.research.google.com/notebooks/data_table.ipynb>data table notebook</a>'\n",
              "            + ' to learn more about interactive tables.';\n",
              "          element.innerHTML = '';\n",
              "          dataTable['output_type'] = 'display_data';\n",
              "          await google.colab.output.renderOutput(dataTable, element);\n",
              "          const docLink = document.createElement('div');\n",
              "          docLink.innerHTML = docLinkHtml;\n",
              "          element.appendChild(docLink);\n",
              "        }\n",
              "      </script>\n",
              "    </div>\n",
              "  </div>\n",
              "  "
            ]
          },
          "metadata": {},
          "execution_count": 9
        }
      ]
    },
    {
      "cell_type": "code",
      "source": [
        "df_setor"
      ],
      "metadata": {
        "colab": {
          "base_uri": "https://localhost:8080/",
          "height": 423
        },
        "id": "PI_Pqe6cX_rV",
        "outputId": "4af61c7f-93e1-4c8f-aeaf-6731a7c7e1b5"
      },
      "execution_count": null,
      "outputs": [
        {
          "output_type": "execute_result",
          "data": {
            "text/plain": [
              "                                   Setor  Total de seguidores\n",
              "0                   Serviços financeiros                   70\n",
              "1   Tecnologia da informação e serviços                    63\n",
              "2                        Ensino superior                   39\n",
              "3                                 Bancos                   35\n",
              "4            Administração governamental                   33\n",
              "..                                   ...                  ...\n",
              "72          Desenvolvimento de programas                    1\n",
              "73              Embalagens e recipientes                    1\n",
              "74        Composição e revisão de textos                    1\n",
              "75                           Bibliotecas                    1\n",
              "76                   Serviços ambientais                    1\n",
              "\n",
              "[77 rows x 2 columns]"
            ],
            "text/html": [
              "\n",
              "  <div id=\"df-b57cdd89-5a3e-4c92-99e8-00c8a889442b\">\n",
              "    <div class=\"colab-df-container\">\n",
              "      <div>\n",
              "<style scoped>\n",
              "    .dataframe tbody tr th:only-of-type {\n",
              "        vertical-align: middle;\n",
              "    }\n",
              "\n",
              "    .dataframe tbody tr th {\n",
              "        vertical-align: top;\n",
              "    }\n",
              "\n",
              "    .dataframe thead th {\n",
              "        text-align: right;\n",
              "    }\n",
              "</style>\n",
              "<table border=\"1\" class=\"dataframe\">\n",
              "  <thead>\n",
              "    <tr style=\"text-align: right;\">\n",
              "      <th></th>\n",
              "      <th>Setor</th>\n",
              "      <th>Total de seguidores</th>\n",
              "    </tr>\n",
              "  </thead>\n",
              "  <tbody>\n",
              "    <tr>\n",
              "      <th>0</th>\n",
              "      <td>Serviços financeiros</td>\n",
              "      <td>70</td>\n",
              "    </tr>\n",
              "    <tr>\n",
              "      <th>1</th>\n",
              "      <td>Tecnologia da informação e serviços</td>\n",
              "      <td>63</td>\n",
              "    </tr>\n",
              "    <tr>\n",
              "      <th>2</th>\n",
              "      <td>Ensino superior</td>\n",
              "      <td>39</td>\n",
              "    </tr>\n",
              "    <tr>\n",
              "      <th>3</th>\n",
              "      <td>Bancos</td>\n",
              "      <td>35</td>\n",
              "    </tr>\n",
              "    <tr>\n",
              "      <th>4</th>\n",
              "      <td>Administração governamental</td>\n",
              "      <td>33</td>\n",
              "    </tr>\n",
              "    <tr>\n",
              "      <th>...</th>\n",
              "      <td>...</td>\n",
              "      <td>...</td>\n",
              "    </tr>\n",
              "    <tr>\n",
              "      <th>72</th>\n",
              "      <td>Desenvolvimento de programas</td>\n",
              "      <td>1</td>\n",
              "    </tr>\n",
              "    <tr>\n",
              "      <th>73</th>\n",
              "      <td>Embalagens e recipientes</td>\n",
              "      <td>1</td>\n",
              "    </tr>\n",
              "    <tr>\n",
              "      <th>74</th>\n",
              "      <td>Composição e revisão de textos</td>\n",
              "      <td>1</td>\n",
              "    </tr>\n",
              "    <tr>\n",
              "      <th>75</th>\n",
              "      <td>Bibliotecas</td>\n",
              "      <td>1</td>\n",
              "    </tr>\n",
              "    <tr>\n",
              "      <th>76</th>\n",
              "      <td>Serviços ambientais</td>\n",
              "      <td>1</td>\n",
              "    </tr>\n",
              "  </tbody>\n",
              "</table>\n",
              "<p>77 rows × 2 columns</p>\n",
              "</div>\n",
              "      <button class=\"colab-df-convert\" onclick=\"convertToInteractive('df-b57cdd89-5a3e-4c92-99e8-00c8a889442b')\"\n",
              "              title=\"Convert this dataframe to an interactive table.\"\n",
              "              style=\"display:none;\">\n",
              "        \n",
              "  <svg xmlns=\"http://www.w3.org/2000/svg\" height=\"24px\"viewBox=\"0 0 24 24\"\n",
              "       width=\"24px\">\n",
              "    <path d=\"M0 0h24v24H0V0z\" fill=\"none\"/>\n",
              "    <path d=\"M18.56 5.44l.94 2.06.94-2.06 2.06-.94-2.06-.94-.94-2.06-.94 2.06-2.06.94zm-11 1L8.5 8.5l.94-2.06 2.06-.94-2.06-.94L8.5 2.5l-.94 2.06-2.06.94zm10 10l.94 2.06.94-2.06 2.06-.94-2.06-.94-.94-2.06-.94 2.06-2.06.94z\"/><path d=\"M17.41 7.96l-1.37-1.37c-.4-.4-.92-.59-1.43-.59-.52 0-1.04.2-1.43.59L10.3 9.45l-7.72 7.72c-.78.78-.78 2.05 0 2.83L4 21.41c.39.39.9.59 1.41.59.51 0 1.02-.2 1.41-.59l7.78-7.78 2.81-2.81c.8-.78.8-2.07 0-2.86zM5.41 20L4 18.59l7.72-7.72 1.47 1.35L5.41 20z\"/>\n",
              "  </svg>\n",
              "      </button>\n",
              "      \n",
              "  <style>\n",
              "    .colab-df-container {\n",
              "      display:flex;\n",
              "      flex-wrap:wrap;\n",
              "      gap: 12px;\n",
              "    }\n",
              "\n",
              "    .colab-df-convert {\n",
              "      background-color: #E8F0FE;\n",
              "      border: none;\n",
              "      border-radius: 50%;\n",
              "      cursor: pointer;\n",
              "      display: none;\n",
              "      fill: #1967D2;\n",
              "      height: 32px;\n",
              "      padding: 0 0 0 0;\n",
              "      width: 32px;\n",
              "    }\n",
              "\n",
              "    .colab-df-convert:hover {\n",
              "      background-color: #E2EBFA;\n",
              "      box-shadow: 0px 1px 2px rgba(60, 64, 67, 0.3), 0px 1px 3px 1px rgba(60, 64, 67, 0.15);\n",
              "      fill: #174EA6;\n",
              "    }\n",
              "\n",
              "    [theme=dark] .colab-df-convert {\n",
              "      background-color: #3B4455;\n",
              "      fill: #D2E3FC;\n",
              "    }\n",
              "\n",
              "    [theme=dark] .colab-df-convert:hover {\n",
              "      background-color: #434B5C;\n",
              "      box-shadow: 0px 1px 3px 1px rgba(0, 0, 0, 0.15);\n",
              "      filter: drop-shadow(0px 1px 2px rgba(0, 0, 0, 0.3));\n",
              "      fill: #FFFFFF;\n",
              "    }\n",
              "  </style>\n",
              "\n",
              "      <script>\n",
              "        const buttonEl =\n",
              "          document.querySelector('#df-b57cdd89-5a3e-4c92-99e8-00c8a889442b button.colab-df-convert');\n",
              "        buttonEl.style.display =\n",
              "          google.colab.kernel.accessAllowed ? 'block' : 'none';\n",
              "\n",
              "        async function convertToInteractive(key) {\n",
              "          const element = document.querySelector('#df-b57cdd89-5a3e-4c92-99e8-00c8a889442b');\n",
              "          const dataTable =\n",
              "            await google.colab.kernel.invokeFunction('convertToInteractive',\n",
              "                                                     [key], {});\n",
              "          if (!dataTable) return;\n",
              "\n",
              "          const docLinkHtml = 'Like what you see? Visit the ' +\n",
              "            '<a target=\"_blank\" href=https://colab.research.google.com/notebooks/data_table.ipynb>data table notebook</a>'\n",
              "            + ' to learn more about interactive tables.';\n",
              "          element.innerHTML = '';\n",
              "          dataTable['output_type'] = 'display_data';\n",
              "          await google.colab.output.renderOutput(dataTable, element);\n",
              "          const docLink = document.createElement('div');\n",
              "          docLink.innerHTML = docLinkHtml;\n",
              "          element.appendChild(docLink);\n",
              "        }\n",
              "      </script>\n",
              "    </div>\n",
              "  </div>\n",
              "  "
            ]
          },
          "metadata": {},
          "execution_count": 10
        }
      ]
    },
    {
      "cell_type": "markdown",
      "metadata": {
        "id": "cEDZCSYQ_io0"
      },
      "source": [
        "## Creating the network"
      ]
    },
    {
      "cell_type": "markdown",
      "source": [
        "### Lamfo's LinkedIn"
      ],
      "metadata": {
        "id": "cPRpid9ugREd"
      }
    },
    {
      "cell_type": "code",
      "metadata": {
        "colab": {
          "base_uri": "https://localhost:8080/"
        },
        "id": "YgZU7rbSKvI2",
        "outputId": "afaa1d87-04bb-47a1-fcb6-cb4e18384a7f"
      },
      "source": [
        "print(df_local.shape)\n",
        "df_local_reduced = df_local.loc[df_local['Total de seguidores']>=3]\n",
        "print(df_local_reduced.shape)"
      ],
      "execution_count": null,
      "outputs": [
        {
          "output_type": "stream",
          "name": "stdout",
          "text": [
            "(66, 2)\n",
            "(13, 2)\n"
          ]
        }
      ]
    },
    {
      "cell_type": "code",
      "source": [
        "print(df_setor.shape)\n",
        "df_setor_reduced = df_setor.loc[df_setor['Total de seguidores']>=10]\n",
        "print(df_setor_reduced.shape)"
      ],
      "metadata": {
        "colab": {
          "base_uri": "https://localhost:8080/"
        },
        "id": "zkvs7gvEYKUF",
        "outputId": "abf3d1e9-54d0-4a82-d2bc-d43cebb876bc"
      },
      "execution_count": null,
      "outputs": [
        {
          "output_type": "stream",
          "name": "stdout",
          "text": [
            "(77, 2)\n",
            "(11, 2)\n"
          ]
        }
      ]
    },
    {
      "cell_type": "code",
      "metadata": {
        "colab": {
          "base_uri": "https://localhost:8080/",
          "height": 738
        },
        "id": "L_ilNMem_lXz",
        "outputId": "1ec1b6f9-2e66-43eb-96e2-af0f3f4b9483"
      },
      "source": [
        "# initialize graph\n",
        "g = nx.Graph()\n",
        "g.add_node('lamfo.unb') # intialize Lamfo as central node\n",
        "\n",
        "# use iterrows to iterate through the data frame\n",
        "for _, row in df_local_reduced.iterrows():\n",
        "\n",
        "  total = f\"{row['Total de seguidores']}\"\n",
        "  local= row['Localidade']\n",
        "  \n",
        "  g.add_node(local, size=total, color='#3449eb', title=local)\n",
        "  g.add_edge('lamfo.unb', local, color='grey')\n",
        "\n",
        "# generate the graph\n",
        "nt = net.Network(height='700px', width='700px', bgcolor=\"black\", font_color='white')\n",
        "nt.from_nx(g)\n",
        "nt.hrepulsion(node_distance=325)\n",
        "nt.show('local_graph.html')\n",
        "display(HTML('local_graph.html'))"
      ],
      "execution_count": null,
      "outputs": [
        {
          "output_type": "display_data",
          "data": {
            "text/plain": [
              "<IPython.core.display.HTML object>"
            ],
            "text/html": [
              "<html>\n",
              "<head>\n",
              "<link rel=\"stylesheet\" href=\"https://cdnjs.cloudflare.com/ajax/libs/vis/4.16.1/vis.css\" type=\"text/css\" />\n",
              "<script type=\"text/javascript\" src=\"https://cdnjs.cloudflare.com/ajax/libs/vis/4.16.1/vis-network.min.js\"> </script>\n",
              "<center>\n",
              "<h1></h1>\n",
              "</center>\n",
              "\n",
              "<!-- <link rel=\"stylesheet\" href=\"../node_modules/vis/dist/vis.min.css\" type=\"text/css\" />\n",
              "<script type=\"text/javascript\" src=\"../node_modules/vis/dist/vis.js\"> </script>-->\n",
              "\n",
              "<style type=\"text/css\">\n",
              "\n",
              "        #mynetwork {\n",
              "            width: 700px;\n",
              "            height: 700px;\n",
              "            background-color: black;\n",
              "            border: 1px solid lightgray;\n",
              "            position: relative;\n",
              "            float: left;\n",
              "        }\n",
              "\n",
              "        \n",
              "\n",
              "        \n",
              "\n",
              "        \n",
              "</style>\n",
              "\n",
              "</head>\n",
              "\n",
              "<body>\n",
              "<div id = \"mynetwork\"></div>\n",
              "\n",
              "\n",
              "<script type=\"text/javascript\">\n",
              "\n",
              "    // initialize global variables.\n",
              "    var edges;\n",
              "    var nodes;\n",
              "    var network; \n",
              "    var container;\n",
              "    var options, data;\n",
              "\n",
              "    \n",
              "    // This method is responsible for drawing the graph, returns the drawn network\n",
              "    function drawGraph() {\n",
              "        var container = document.getElementById('mynetwork');\n",
              "        \n",
              "        \n",
              "\n",
              "        // parsing and collecting nodes and edges from the python\n",
              "        nodes = new vis.DataSet([{\"font\": {\"color\": \"white\"}, \"id\": \"lamfo.unb\", \"label\": \"lamfo.unb\", \"shape\": \"dot\", \"size\": 10}, {\"color\": \"#3449eb\", \"font\": {\"color\": \"white\"}, \"id\": \"Bras\\u00edlia\", \"label\": \"Bras\\u00edlia\", \"shape\": \"dot\", \"size\": 219, \"title\": \"Bras\\u00edlia\"}, {\"color\": \"#3449eb\", \"font\": {\"color\": \"white\"}, \"id\": \"S\\u00e3o Paulo\", \"label\": \"S\\u00e3o Paulo\", \"shape\": \"dot\", \"size\": 70, \"title\": \"S\\u00e3o Paulo\"}, {\"color\": \"#3449eb\", \"font\": {\"color\": \"white\"}, \"id\": \"Belo Horizonte\", \"label\": \"Belo Horizonte\", \"shape\": \"dot\", \"size\": 11, \"title\": \"Belo Horizonte\"}, {\"color\": \"#3449eb\", \"font\": {\"color\": \"white\"}, \"id\": \"Rio de Janeiro\", \"label\": \"Rio de Janeiro\", \"shape\": \"dot\", \"size\": 10, \"title\": \"Rio de Janeiro\"}, {\"color\": \"#3449eb\", \"font\": {\"color\": \"white\"}, \"id\": \"Araruama\", \"label\": \"Araruama\", \"shape\": \"dot\", \"size\": 10, \"title\": \"Araruama\"}, {\"color\": \"#3449eb\", \"font\": {\"color\": \"white\"}, \"id\": \"Porto Alegre\", \"label\": \"Porto Alegre\", \"shape\": \"dot\", \"size\": 7, \"title\": \"Porto Alegre\"}, {\"color\": \"#3449eb\", \"font\": {\"color\": \"white\"}, \"id\": \"Campinas\", \"label\": \"Campinas\", \"shape\": \"dot\", \"size\": 6, \"title\": \"Campinas\"}, {\"color\": \"#3449eb\", \"font\": {\"color\": \"white\"}, \"id\": \"Goi\\u00e2nia\", \"label\": \"Goi\\u00e2nia\", \"shape\": \"dot\", \"size\": 4, \"title\": \"Goi\\u00e2nia\"}, {\"color\": \"#3449eb\", \"font\": {\"color\": \"white\"}, \"id\": \"Curitiba\", \"label\": \"Curitiba\", \"shape\": \"dot\", \"size\": 4, \"title\": \"Curitiba\"}, {\"color\": \"#3449eb\", \"font\": {\"color\": \"white\"}, \"id\": \"Salvador\", \"label\": \"Salvador\", \"shape\": \"dot\", \"size\": 4, \"title\": \"Salvador\"}, {\"color\": \"#3449eb\", \"font\": {\"color\": \"white\"}, \"id\": \"Campo Grande\", \"label\": \"Campo Grande\", \"shape\": \"dot\", \"size\": 3, \"title\": \"Campo Grande\"}, {\"color\": \"#3449eb\", \"font\": {\"color\": \"white\"}, \"id\": \"Joinville\", \"label\": \"Joinville\", \"shape\": \"dot\", \"size\": 3, \"title\": \"Joinville\"}, {\"color\": \"#3449eb\", \"font\": {\"color\": \"white\"}, \"id\": \"Vila Velha\", \"label\": \"Vila Velha\", \"shape\": \"dot\", \"size\": 3, \"title\": \"Vila Velha\"}]);\n",
              "        edges = new vis.DataSet([{\"color\": \"grey\", \"from\": \"lamfo.unb\", \"to\": \"Bras\\u00edlia\", \"weight\": 1}, {\"color\": \"grey\", \"from\": \"lamfo.unb\", \"to\": \"S\\u00e3o Paulo\", \"weight\": 1}, {\"color\": \"grey\", \"from\": \"lamfo.unb\", \"to\": \"Belo Horizonte\", \"weight\": 1}, {\"color\": \"grey\", \"from\": \"lamfo.unb\", \"to\": \"Rio de Janeiro\", \"weight\": 1}, {\"color\": \"grey\", \"from\": \"lamfo.unb\", \"to\": \"Araruama\", \"weight\": 1}, {\"color\": \"grey\", \"from\": \"lamfo.unb\", \"to\": \"Porto Alegre\", \"weight\": 1}, {\"color\": \"grey\", \"from\": \"lamfo.unb\", \"to\": \"Campinas\", \"weight\": 1}, {\"color\": \"grey\", \"from\": \"lamfo.unb\", \"to\": \"Goi\\u00e2nia\", \"weight\": 1}, {\"color\": \"grey\", \"from\": \"lamfo.unb\", \"to\": \"Curitiba\", \"weight\": 1}, {\"color\": \"grey\", \"from\": \"lamfo.unb\", \"to\": \"Salvador\", \"weight\": 1}, {\"color\": \"grey\", \"from\": \"lamfo.unb\", \"to\": \"Campo Grande\", \"weight\": 1}, {\"color\": \"grey\", \"from\": \"lamfo.unb\", \"to\": \"Joinville\", \"weight\": 1}, {\"color\": \"grey\", \"from\": \"lamfo.unb\", \"to\": \"Vila Velha\", \"weight\": 1}]);\n",
              "\n",
              "        // adding nodes and edges to the graph\n",
              "        data = {nodes: nodes, edges: edges};\n",
              "\n",
              "        var options = {\n",
              "    \"configure\": {\n",
              "        \"enabled\": false\n",
              "    },\n",
              "    \"edges\": {\n",
              "        \"color\": {\n",
              "            \"inherit\": true\n",
              "        },\n",
              "        \"smooth\": {\n",
              "            \"enabled\": false,\n",
              "            \"type\": \"continuous\"\n",
              "        }\n",
              "    },\n",
              "    \"interaction\": {\n",
              "        \"dragNodes\": true,\n",
              "        \"hideEdgesOnDrag\": false,\n",
              "        \"hideNodesOnDrag\": false\n",
              "    },\n",
              "    \"physics\": {\n",
              "        \"enabled\": true,\n",
              "        \"hierarchicalRepulsion\": {\n",
              "            \"centralGravity\": 0.0,\n",
              "            \"damping\": 0.09,\n",
              "            \"nodeDistance\": 325,\n",
              "            \"springConstant\": 0.01,\n",
              "            \"springLength\": 100\n",
              "        },\n",
              "        \"solver\": \"hierarchicalRepulsion\",\n",
              "        \"stabilization\": {\n",
              "            \"enabled\": true,\n",
              "            \"fit\": true,\n",
              "            \"iterations\": 1000,\n",
              "            \"onlyDynamicEdges\": false,\n",
              "            \"updateInterval\": 50\n",
              "        }\n",
              "    }\n",
              "};\n",
              "        \n",
              "        \n",
              "\n",
              "        \n",
              "\n",
              "        network = new vis.Network(container, data, options);\n",
              "\t \n",
              "        \n",
              "\n",
              "\n",
              "        \n",
              "\n",
              "        return network;\n",
              "\n",
              "    }\n",
              "\n",
              "    drawGraph();\n",
              "\n",
              "</script>\n",
              "</body>\n",
              "</html>"
            ]
          },
          "metadata": {}
        }
      ]
    },
    {
      "cell_type": "code",
      "source": [
        "# initialize graph\n",
        "g = nx.Graph()\n",
        "g.add_node('lamfo.unb') # intialize yourself as central\n",
        "\n",
        "# use iterrows to iterate through the data frame\n",
        "for _, row in df_setor_reduced.iterrows():\n",
        "  total = f\"{row['Total de seguidores']}\"\n",
        "  setor= row['Setor']\n",
        "  \n",
        "  g.add_node(setor, size=total, color='#3449eb', title=setor)\n",
        "  g.add_edge('lamfo.unb', setor, color='grey')\n",
        "\n",
        "# generate the graph\n",
        "nt = net.Network(height='700px', width='700px', bgcolor=\"black\", font_color='white')\n",
        "nt.from_nx(g)\n",
        "nt.hrepulsion(node_distance=300)\n",
        "nt.show('sector_graph.html')\n",
        "display(HTML('sector_graph.html'))"
      ],
      "metadata": {
        "colab": {
          "base_uri": "https://localhost:8080/",
          "height": 738
        },
        "id": "xN8_8yE5YY0J",
        "outputId": "424822bf-d7ed-47a1-e455-0c8f0f12d87e"
      },
      "execution_count": null,
      "outputs": [
        {
          "output_type": "display_data",
          "data": {
            "text/plain": [
              "<IPython.core.display.HTML object>"
            ],
            "text/html": [
              "<html>\n",
              "<head>\n",
              "<link rel=\"stylesheet\" href=\"https://cdnjs.cloudflare.com/ajax/libs/vis/4.16.1/vis.css\" type=\"text/css\" />\n",
              "<script type=\"text/javascript\" src=\"https://cdnjs.cloudflare.com/ajax/libs/vis/4.16.1/vis-network.min.js\"> </script>\n",
              "<center>\n",
              "<h1></h1>\n",
              "</center>\n",
              "\n",
              "<!-- <link rel=\"stylesheet\" href=\"../node_modules/vis/dist/vis.min.css\" type=\"text/css\" />\n",
              "<script type=\"text/javascript\" src=\"../node_modules/vis/dist/vis.js\"> </script>-->\n",
              "\n",
              "<style type=\"text/css\">\n",
              "\n",
              "        #mynetwork {\n",
              "            width: 700px;\n",
              "            height: 700px;\n",
              "            background-color: black;\n",
              "            border: 1px solid lightgray;\n",
              "            position: relative;\n",
              "            float: left;\n",
              "        }\n",
              "\n",
              "        \n",
              "\n",
              "        \n",
              "\n",
              "        \n",
              "</style>\n",
              "\n",
              "</head>\n",
              "\n",
              "<body>\n",
              "<div id = \"mynetwork\"></div>\n",
              "\n",
              "\n",
              "<script type=\"text/javascript\">\n",
              "\n",
              "    // initialize global variables.\n",
              "    var edges;\n",
              "    var nodes;\n",
              "    var network; \n",
              "    var container;\n",
              "    var options, data;\n",
              "\n",
              "    \n",
              "    // This method is responsible for drawing the graph, returns the drawn network\n",
              "    function drawGraph() {\n",
              "        var container = document.getElementById('mynetwork');\n",
              "        \n",
              "        \n",
              "\n",
              "        // parsing and collecting nodes and edges from the python\n",
              "        nodes = new vis.DataSet([{\"font\": {\"color\": \"white\"}, \"id\": \"lamfo.unb\", \"label\": \"lamfo.unb\", \"shape\": \"dot\", \"size\": 10}, {\"color\": \"#3449eb\", \"font\": {\"color\": \"white\"}, \"id\": \"Servi\\u00e7os financeiros\", \"label\": \"Servi\\u00e7os financeiros\", \"shape\": \"dot\", \"size\": 70, \"title\": \"Servi\\u00e7os financeiros\"}, {\"color\": \"#3449eb\", \"font\": {\"color\": \"white\"}, \"id\": \"Tecnologia da informa\\u00e7\\u00e3o e servi\\u00e7os \", \"label\": \"Tecnologia da informa\\u00e7\\u00e3o e servi\\u00e7os \", \"shape\": \"dot\", \"size\": 63, \"title\": \"Tecnologia da informa\\u00e7\\u00e3o e servi\\u00e7os \"}, {\"color\": \"#3449eb\", \"font\": {\"color\": \"white\"}, \"id\": \"Ensino superior\", \"label\": \"Ensino superior\", \"shape\": \"dot\", \"size\": 39, \"title\": \"Ensino superior\"}, {\"color\": \"#3449eb\", \"font\": {\"color\": \"white\"}, \"id\": \"Bancos\", \"label\": \"Bancos\", \"shape\": \"dot\", \"size\": 35, \"title\": \"Bancos\"}, {\"color\": \"#3449eb\", \"font\": {\"color\": \"white\"}, \"id\": \"Administra\\u00e7\\u00e3o governamental\", \"label\": \"Administra\\u00e7\\u00e3o governamental\", \"shape\": \"dot\", \"size\": 33, \"title\": \"Administra\\u00e7\\u00e3o governamental\"}, {\"color\": \"#3449eb\", \"font\": {\"color\": \"white\"}, \"id\": \"Gest\\u00e3o de investimentos\", \"label\": \"Gest\\u00e3o de investimentos\", \"shape\": \"dot\", \"size\": 24, \"title\": \"Gest\\u00e3o de investimentos\"}, {\"color\": \"#3449eb\", \"font\": {\"color\": \"white\"}, \"id\": \"Pesquisa\", \"label\": \"Pesquisa\", \"shape\": \"dot\", \"size\": 23, \"title\": \"Pesquisa\"}, {\"color\": \"#3449eb\", \"font\": {\"color\": \"white\"}, \"id\": \"Organiza\\u00e7\\u00f5es de pesquisa e orienta\\u00e7\\u00e3o\", \"label\": \"Organiza\\u00e7\\u00f5es de pesquisa e orienta\\u00e7\\u00e3o\", \"shape\": \"dot\", \"size\": 18, \"title\": \"Organiza\\u00e7\\u00f5es de pesquisa e orienta\\u00e7\\u00e3o\"}, {\"color\": \"#3449eb\", \"font\": {\"color\": \"white\"}, \"id\": \"Consultoria de gerenciamento\", \"label\": \"Consultoria de gerenciamento\", \"shape\": \"dot\", \"size\": 14, \"title\": \"Consultoria de gerenciamento\"}, {\"color\": \"#3449eb\", \"font\": {\"color\": \"white\"}, \"id\": \"Software\", \"label\": \"Software\", \"shape\": \"dot\", \"size\": 12, \"title\": \"Software\"}, {\"color\": \"#3449eb\", \"font\": {\"color\": \"white\"}, \"id\": \"Varejo\", \"label\": \"Varejo\", \"shape\": \"dot\", \"size\": 10, \"title\": \"Varejo\"}]);\n",
              "        edges = new vis.DataSet([{\"color\": \"grey\", \"from\": \"lamfo.unb\", \"to\": \"Servi\\u00e7os financeiros\", \"weight\": 1}, {\"color\": \"grey\", \"from\": \"lamfo.unb\", \"to\": \"Tecnologia da informa\\u00e7\\u00e3o e servi\\u00e7os \", \"weight\": 1}, {\"color\": \"grey\", \"from\": \"lamfo.unb\", \"to\": \"Ensino superior\", \"weight\": 1}, {\"color\": \"grey\", \"from\": \"lamfo.unb\", \"to\": \"Bancos\", \"weight\": 1}, {\"color\": \"grey\", \"from\": \"lamfo.unb\", \"to\": \"Administra\\u00e7\\u00e3o governamental\", \"weight\": 1}, {\"color\": \"grey\", \"from\": \"lamfo.unb\", \"to\": \"Gest\\u00e3o de investimentos\", \"weight\": 1}, {\"color\": \"grey\", \"from\": \"lamfo.unb\", \"to\": \"Pesquisa\", \"weight\": 1}, {\"color\": \"grey\", \"from\": \"lamfo.unb\", \"to\": \"Organiza\\u00e7\\u00f5es de pesquisa e orienta\\u00e7\\u00e3o\", \"weight\": 1}, {\"color\": \"grey\", \"from\": \"lamfo.unb\", \"to\": \"Consultoria de gerenciamento\", \"weight\": 1}, {\"color\": \"grey\", \"from\": \"lamfo.unb\", \"to\": \"Software\", \"weight\": 1}, {\"color\": \"grey\", \"from\": \"lamfo.unb\", \"to\": \"Varejo\", \"weight\": 1}]);\n",
              "\n",
              "        // adding nodes and edges to the graph\n",
              "        data = {nodes: nodes, edges: edges};\n",
              "\n",
              "        var options = {\n",
              "    \"configure\": {\n",
              "        \"enabled\": false\n",
              "    },\n",
              "    \"edges\": {\n",
              "        \"color\": {\n",
              "            \"inherit\": true\n",
              "        },\n",
              "        \"smooth\": {\n",
              "            \"enabled\": false,\n",
              "            \"type\": \"continuous\"\n",
              "        }\n",
              "    },\n",
              "    \"interaction\": {\n",
              "        \"dragNodes\": true,\n",
              "        \"hideEdgesOnDrag\": false,\n",
              "        \"hideNodesOnDrag\": false\n",
              "    },\n",
              "    \"physics\": {\n",
              "        \"enabled\": true,\n",
              "        \"hierarchicalRepulsion\": {\n",
              "            \"centralGravity\": 0.0,\n",
              "            \"damping\": 0.09,\n",
              "            \"nodeDistance\": 300,\n",
              "            \"springConstant\": 0.01,\n",
              "            \"springLength\": 100\n",
              "        },\n",
              "        \"solver\": \"hierarchicalRepulsion\",\n",
              "        \"stabilization\": {\n",
              "            \"enabled\": true,\n",
              "            \"fit\": true,\n",
              "            \"iterations\": 1000,\n",
              "            \"onlyDynamicEdges\": false,\n",
              "            \"updateInterval\": 50\n",
              "        }\n",
              "    }\n",
              "};\n",
              "        \n",
              "        \n",
              "\n",
              "        \n",
              "\n",
              "        network = new vis.Network(container, data, options);\n",
              "\t \n",
              "        \n",
              "\n",
              "\n",
              "        \n",
              "\n",
              "        return network;\n",
              "\n",
              "    }\n",
              "\n",
              "    drawGraph();\n",
              "\n",
              "</script>\n",
              "</body>\n",
              "</html>"
            ]
          },
          "metadata": {}
        }
      ]
    },
    {
      "cell_type": "markdown",
      "metadata": {
        "id": "Uwj5nrPzq8VQ"
      },
      "source": [
        "## Publish to datapane"
      ]
    },
    {
      "cell_type": "code",
      "metadata": {
        "id": "N13ismKPVLt3"
      },
      "source": [
        "# credits to Khuyen Tran\n",
        "def read_html(name: str):\n",
        "    import codecs\n",
        "    f = codecs.open(name, 'r')\n",
        "    return f.read()"
      ],
      "execution_count": null,
      "outputs": []
    },
    {
      "cell_type": "code",
      "metadata": {
        "id": "jj_IhytvrCfS",
        "colab": {
          "base_uri": "https://localhost:8080/"
        },
        "outputId": "8abdfaa9-0f84-4602-bfe0-07931ee92575"
      },
      "source": [
        "!pip install jupyter-client==6.1.5 datapane --quiet\n",
        "import datapane as dp"
      ],
      "execution_count": null,
      "outputs": [
        {
          "output_type": "stream",
          "name": "stdout",
          "text": [
            "\u001b[K     |████████████████████████████████| 107 kB 7.8 MB/s \n",
            "\u001b[K     |████████████████████████████████| 2.6 MB 52.0 MB/s \n",
            "\u001b[K     |████████████████████████████████| 54 kB 2.0 MB/s \n",
            "\u001b[K     |████████████████████████████████| 193 kB 62.2 MB/s \n",
            "\u001b[K     |████████████████████████████████| 23.6 MB 1.4 MB/s \n",
            "\u001b[K     |████████████████████████████████| 97 kB 6.9 MB/s \n",
            "\u001b[K     |████████████████████████████████| 10.9 MB 45.6 MB/s \n",
            "\u001b[K     |████████████████████████████████| 45 kB 2.8 MB/s \n",
            "\u001b[K     |████████████████████████████████| 46 kB 3.7 MB/s \n",
            "\u001b[K     |████████████████████████████████| 596 kB 52.8 MB/s \n",
            "\u001b[K     |████████████████████████████████| 46 kB 3.3 MB/s \n",
            "\u001b[?25h  Building wheel for face (setup.py) ... \u001b[?25l\u001b[?25hdone\n",
            "  Building wheel for micawber (setup.py) ... \u001b[?25l\u001b[?25hdone\n",
            "  Building wheel for stringcase (setup.py) ... \u001b[?25l\u001b[?25hdone\n"
          ]
        }
      ]
    },
    {
      "cell_type": "code",
      "metadata": {
        "id": "GyBvn9-7rEw2",
        "colab": {
          "base_uri": "https://localhost:8080/"
        },
        "outputId": "5f655156-3dd6-4f7f-ce38-6c2749e43d4c"
      },
      "source": [
        "!datapane login --token=XXX"
      ],
      "execution_count": null,
      "outputs": [
        {
          "output_type": "stream",
          "name": "stdout",
          "text": [
            "\u001b[32mConnected successfully to https://datapane.com as faustost\u001b[0m\n"
          ]
        }
      ]
    },
    {
      "cell_type": "code",
      "metadata": {
        "id": "g3Vz1K0Jq9vA",
        "colab": {
          "base_uri": "https://localhost:8080/"
        },
        "outputId": "621736f0-6591-4b6c-ef0a-58e23b815ce2"
      },
      "source": [
        "r1 = dp.Report(dp.HTML(read_html('local_graph.html'))) \n",
        "\n",
        "r2 = dp.Report(dp.HTML(read_html('sector_graph.html')))\n",
        "\n",
        "r1.upload(name='lamfo_localities_graph')\n",
        "r2.upload(name='lamfo_sectors_graph')"
      ],
      "execution_count": null,
      "outputs": [
        {
          "output_type": "stream",
          "name": "stdout",
          "text": [
            "Uploading report and associated data - *please wait...*\n",
            "Your report only contains a single element - did you know you can include additional plots, tables and text in a single report? More info at https://docs.datapane.com/reports/blocks/layout-pages-and-selects\n",
            "Report successfully uploaded. View and share your report at https://datapane.com/u/faustost/reports/8AVVOEA/lamfo-localities-graph/, or edit your report at https://datapane.com/u/faustost/reports/8AVVOEA/lamfo-localities-graph/edit/.\n",
            "Uploading report and associated data - *please wait...*\n",
            "Your report only contains a single element - did you know you can include additional plots, tables and text in a single report? More info at https://docs.datapane.com/reports/blocks/layout-pages-and-selects\n",
            "Report successfully uploaded. View and share your report at https://datapane.com/u/faustost/reports/dA9QlOA/lamfo-sectors-graph/, or edit your report at https://datapane.com/u/faustost/reports/dA9QlOA/lamfo-sectors-graph/edit/.\n"
          ]
        }
      ]
    },
    {
      "cell_type": "code",
      "source": [
        ""
      ],
      "metadata": {
        "id": "HYdR3XNr0S3Z"
      },
      "execution_count": null,
      "outputs": []
    }
  ]
}